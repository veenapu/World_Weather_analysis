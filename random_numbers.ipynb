{
 "cells": [
  {
   "cell_type": "code",
   "execution_count": 132,
   "id": "39a1674f",
   "metadata": {},
   "outputs": [],
   "source": [
    "# GET LATITUDES"
   ]
  },
  {
   "cell_type": "code",
   "execution_count": 133,
   "id": "49156f93",
   "metadata": {},
   "outputs": [],
   "source": [
    "# Import the random module\n",
    "import random"
   ]
  },
  {
   "cell_type": "code",
   "execution_count": 134,
   "id": "ea491bce",
   "metadata": {},
   "outputs": [
    {
     "data": {
      "text/plain": [
       "39"
      ]
     },
     "execution_count": 134,
     "metadata": {},
     "output_type": "execute_result"
    }
   ],
   "source": [
    "random.randint(-90,90)"
   ]
  },
  {
   "cell_type": "code",
   "execution_count": 135,
   "id": "718385a6",
   "metadata": {},
   "outputs": [
    {
     "data": {
      "text/plain": [
       "0.8219121077387881"
      ]
     },
     "execution_count": 135,
     "metadata": {},
     "output_type": "execute_result"
    }
   ],
   "source": [
    "random.random()"
   ]
  },
  {
   "cell_type": "code",
   "execution_count": 136,
   "id": "507ec6dd",
   "metadata": {},
   "outputs": [
    {
     "data": {
      "text/plain": [
       "72.98051309964907"
      ]
     },
     "execution_count": 136,
     "metadata": {},
     "output_type": "execute_result"
    }
   ],
   "source": [
    "random_number = random.randint(-90,89) + random.random()\n",
    "random_number"
   ]
  },
  {
   "cell_type": "code",
   "execution_count": 137,
   "id": "f55fa797",
   "metadata": {},
   "outputs": [
    {
     "data": {
      "text/plain": [
       "[-38.12445765868377,\n",
       " -35.3384466279025,\n",
       " -16.734728983059103,\n",
       " -37.53372092091363,\n",
       " 73.87370158173677,\n",
       " 2.7140155012253833,\n",
       " -35.10893589800923,\n",
       " 4.751338748559498,\n",
       " 81.54904674931986,\n",
       " 70.28100896629616]"
      ]
     },
     "execution_count": 137,
     "metadata": {},
     "output_type": "execute_result"
    }
   ],
   "source": [
    "# generate ten random floating-point decimal latitudes between -90 and 89.\n",
    "x =1\n",
    "latitudes = []\n",
    "while x < 11:\n",
    "    random_lat = random.randint(-90,89) + random.random()\n",
    "    latitudes.append(random_lat)\n",
    "    x += 1\n",
    "latitudes"
   ]
  },
  {
   "cell_type": "code",
   "execution_count": 138,
   "id": "e3e705fa",
   "metadata": {},
   "outputs": [],
   "source": [
    "# GET LONGITUDES using randrange() function"
   ]
  },
  {
   "cell_type": "code",
   "execution_count": 139,
   "id": "aaff934a",
   "metadata": {},
   "outputs": [
    {
     "data": {
      "text/plain": [
       "-7"
      ]
     },
     "execution_count": 139,
     "metadata": {},
     "output_type": "execute_result"
    }
   ],
   "source": [
    "random.randrange(-90, 90, step=1)"
   ]
  },
  {
   "cell_type": "code",
   "execution_count": 140,
   "id": "420b20ad",
   "metadata": {},
   "outputs": [
    {
     "data": {
      "text/plain": [
       "30"
      ]
     },
     "execution_count": 140,
     "metadata": {},
     "output_type": "execute_result"
    }
   ],
   "source": [
    "random.randrange(-90, 90, step=3)"
   ]
  },
  {
   "cell_type": "code",
   "execution_count": 141,
   "id": "a43ea0d3",
   "metadata": {},
   "outputs": [],
   "source": [
    "# Import the NumPy module\n",
    "import numpy as np"
   ]
  },
  {
   "cell_type": "code",
   "execution_count": 142,
   "id": "e2ce0278",
   "metadata": {},
   "outputs": [
    {
     "data": {
      "text/plain": [
       "-20.75131817450867"
      ]
     },
     "execution_count": 142,
     "metadata": {},
     "output_type": "execute_result"
    }
   ],
   "source": [
    "np.random.uniform(-90.000, 90.000)"
   ]
  },
  {
   "cell_type": "code",
   "execution_count": 143,
   "id": "8a909640",
   "metadata": {},
   "outputs": [
    {
     "data": {
      "text/plain": [
       "array([  5.66023299, -13.07855359,  82.01654599,  35.42038328,\n",
       "        14.5566051 ,  89.4259007 , -86.48442696,  43.3686952 ,\n",
       "       -41.05248873,  -0.47659527, -54.46590296, -85.98951061,\n",
       "       -49.46272381, -59.1607184 , -62.69611402, -24.44702682,\n",
       "       -39.69077181, -42.92866657, -66.49883444, -74.37284034,\n",
       "        47.06711726, -59.39715306, -23.64092665,  -9.95500372,\n",
       "        67.01507496, -83.96434084,  60.79056473, -34.07536381,\n",
       "        69.2157779 , -57.1350133 ,  66.92665302, -70.22762649,\n",
       "        80.24608998, -15.74947443,  30.65722635, -39.15272971,\n",
       "        52.95367061,  15.09120331, -38.68709386, -81.02618394,\n",
       "       -74.13510901, -45.36433039,   0.42088341,  52.74576238,\n",
       "         7.6971548 ,  75.43786898, -88.61608585,  51.0789204 ,\n",
       "       -19.50294775, -30.17167901])"
      ]
     },
     "execution_count": 143,
     "metadata": {},
     "output_type": "execute_result"
    }
   ],
   "source": [
    "np.random.uniform(-90.000, 90.000, size=50)"
   ]
  },
  {
   "cell_type": "code",
   "execution_count": 144,
   "id": "98717085",
   "metadata": {},
   "outputs": [
    {
     "name": "stdout",
     "output_type": "stream",
     "text": [
      "18.8 µs ± 3.03 µs per loop (mean ± std. dev. of 7 runs, 100,000 loops each)\n"
     ]
    }
   ],
   "source": [
    "# To test how long a piece of code or function takes to run, \n",
    "# we can import the \"timeit\" module and use the %timeit magic command \n",
    "# when we run our code or call the function.\n",
    "import timeit\n",
    "\n",
    "%timeit np.random.uniform(-90.000, 90.000, size=1500)"
   ]
  },
  {
   "cell_type": "code",
   "execution_count": 147,
   "id": "d5aa483d",
   "metadata": {},
   "outputs": [
    {
     "name": "stdout",
     "output_type": "stream",
     "text": [
      "1.87 ms ± 313 µs per loop (mean ± std. dev. of 7 runs, 1,000 loops each)\n"
     ]
    }
   ],
   "source": [
    "def latitudes(size):\n",
    "    latitudes = []\n",
    "    x=0\n",
    "    while x < (size):\n",
    "        random_lat = random.randint(-90, 90) + random.random()\n",
    "        latitudes.append(random_lat)\n",
    "        x += 1\n",
    "    return latitudes\n",
    "\n",
    "# call the function with 1500\n",
    "%timeit latitudes(1500)"
   ]
  },
  {
   "cell_type": "code",
   "execution_count": null,
   "id": "67c5b028",
   "metadata": {},
   "outputs": [],
   "source": []
  },
  {
   "cell_type": "code",
   "execution_count": null,
   "id": "a155f9bc",
   "metadata": {},
   "outputs": [],
   "source": []
  },
  {
   "cell_type": "code",
   "execution_count": null,
   "id": "3fa4329b",
   "metadata": {},
   "outputs": [],
   "source": []
  },
  {
   "cell_type": "code",
   "execution_count": null,
   "id": "e785b137",
   "metadata": {},
   "outputs": [],
   "source": []
  }
 ],
 "metadata": {
  "kernelspec": {
   "display_name": "Python 3 (ipykernel)",
   "language": "python",
   "name": "python3"
  },
  "language_info": {
   "codemirror_mode": {
    "name": "ipython",
    "version": 3
   },
   "file_extension": ".py",
   "mimetype": "text/x-python",
   "name": "python",
   "nbconvert_exporter": "python",
   "pygments_lexer": "ipython3",
   "version": "3.9.12"
  }
 },
 "nbformat": 4,
 "nbformat_minor": 5
}
