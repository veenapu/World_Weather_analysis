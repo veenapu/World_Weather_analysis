{
 "cells": [
  {
   "cell_type": "code",
   "execution_count": 6,
   "id": "39a1674f",
   "metadata": {},
   "outputs": [],
   "source": [
    "# GET LATITUDES"
   ]
  },
  {
   "cell_type": "code",
   "execution_count": 7,
   "id": "49156f93",
   "metadata": {},
   "outputs": [],
   "source": [
    "# Import the random module\n",
    "import random"
   ]
  },
  {
   "cell_type": "code",
   "execution_count": 8,
   "id": "ea491bce",
   "metadata": {},
   "outputs": [
    {
     "data": {
      "text/plain": [
       "-76"
      ]
     },
     "execution_count": 8,
     "metadata": {},
     "output_type": "execute_result"
    }
   ],
   "source": [
    "random.randint(-90,90)"
   ]
  },
  {
   "cell_type": "code",
   "execution_count": 9,
   "id": "718385a6",
   "metadata": {},
   "outputs": [
    {
     "data": {
      "text/plain": [
       "0.4538123721432502"
      ]
     },
     "execution_count": 9,
     "metadata": {},
     "output_type": "execute_result"
    }
   ],
   "source": [
    "random.random()"
   ]
  },
  {
   "cell_type": "code",
   "execution_count": 10,
   "id": "507ec6dd",
   "metadata": {},
   "outputs": [
    {
     "data": {
      "text/plain": [
       "-54.248997654787594"
      ]
     },
     "execution_count": 10,
     "metadata": {},
     "output_type": "execute_result"
    }
   ],
   "source": [
    "random_number = random.randint(-90,89) + random.random()\n",
    "random_number"
   ]
  },
  {
   "cell_type": "code",
   "execution_count": 11,
   "id": "f55fa797",
   "metadata": {},
   "outputs": [
    {
     "data": {
      "text/plain": [
       "[-59.174530347373,\n",
       " -14.599151917090863,\n",
       " -50.254192635648806,\n",
       " 41.54023381121797,\n",
       " 82.86299029534874,\n",
       " 42.96697289501306,\n",
       " -62.43088253194275,\n",
       " 78.61312136784053,\n",
       " 3.1571618726440294,\n",
       " -42.13974459614133]"
      ]
     },
     "execution_count": 11,
     "metadata": {},
     "output_type": "execute_result"
    }
   ],
   "source": [
    "# generate ten random floating-point decimal latitudes between -90 and 89.\n",
    "x =1\n",
    "latitudes = []\n",
    "while x < 11:\n",
    "    random_lat = random.randint(-90,89) + random.random()\n",
    "    latitudes.append(random_lat)\n",
    "    x += 1\n",
    "latitudes"
   ]
  },
  {
   "cell_type": "code",
   "execution_count": 12,
   "id": "e3e705fa",
   "metadata": {},
   "outputs": [],
   "source": [
    "# GET LONGITUDES using randrange() function"
   ]
  },
  {
   "cell_type": "code",
   "execution_count": 13,
   "id": "aaff934a",
   "metadata": {},
   "outputs": [
    {
     "data": {
      "text/plain": [
       "-37"
      ]
     },
     "execution_count": 13,
     "metadata": {},
     "output_type": "execute_result"
    }
   ],
   "source": [
    "random.randrange(-90, 90, step=1)"
   ]
  },
  {
   "cell_type": "code",
   "execution_count": 14,
   "id": "420b20ad",
   "metadata": {},
   "outputs": [
    {
     "data": {
      "text/plain": [
       "-90"
      ]
     },
     "execution_count": 14,
     "metadata": {},
     "output_type": "execute_result"
    }
   ],
   "source": [
    "random.randrange(-90, 90, step=3)"
   ]
  },
  {
   "cell_type": "code",
   "execution_count": 15,
   "id": "a43ea0d3",
   "metadata": {},
   "outputs": [],
   "source": [
    "# Import the NumPy module\n",
    "import numpy as np"
   ]
  },
  {
   "cell_type": "code",
   "execution_count": 16,
   "id": "e2ce0278",
   "metadata": {},
   "outputs": [
    {
     "data": {
      "text/plain": [
       "60.60470852605806"
      ]
     },
     "execution_count": 16,
     "metadata": {},
     "output_type": "execute_result"
    }
   ],
   "source": [
    "np.random.uniform(-90.000, 90.000)"
   ]
  },
  {
   "cell_type": "code",
   "execution_count": 17,
   "id": "8a909640",
   "metadata": {},
   "outputs": [
    {
     "data": {
      "text/plain": [
       "array([ 7.75268404e+01, -6.10525103e+01,  1.07287296e+01, -2.87426510e+01,\n",
       "        3.20699573e+01, -5.26221513e+00, -2.55540427e+01, -8.41331776e+00,\n",
       "       -1.04096179e+01,  6.26355563e+01,  3.80296214e+01, -3.43751175e+01,\n",
       "        5.40434139e-02,  1.71465527e+01, -2.89166776e+01, -7.12845983e+01,\n",
       "        7.35167666e+00, -6.23383341e+01, -2.59591987e+01,  7.41703966e+00,\n",
       "       -8.57777578e+01, -1.00393114e+01, -6.64589677e+01,  9.31326722e+00,\n",
       "       -5.95062836e+01, -5.66695086e+00,  7.02718421e+00, -6.22563155e+01,\n",
       "        8.65371724e+01,  2.83704952e+01,  1.03030158e+01, -4.60651062e+00,\n",
       "        7.99991799e+01,  8.00680484e+01,  7.10095593e+01, -8.99176089e+01,\n",
       "        2.23203344e+01, -7.22060128e+01, -2.89848553e+01,  6.14737891e+01,\n",
       "       -5.90448926e+01, -8.76054305e+01, -2.02475784e+01, -5.21064754e+01,\n",
       "       -7.42666402e+01,  6.27412770e+01, -4.84205456e+01, -5.18878529e+01,\n",
       "       -8.83281502e+01,  5.17631315e+01])"
      ]
     },
     "execution_count": 17,
     "metadata": {},
     "output_type": "execute_result"
    }
   ],
   "source": [
    "np.random.uniform(-90.000, 90.000, size=50)"
   ]
  },
  {
   "cell_type": "code",
   "execution_count": 18,
   "id": "98717085",
   "metadata": {},
   "outputs": [
    {
     "name": "stdout",
     "output_type": "stream",
     "text": [
      "19.7 µs ± 2.63 µs per loop (mean ± std. dev. of 7 runs, 100000 loops each)\n"
     ]
    }
   ],
   "source": [
    "# To test how long a piece of code or function takes to run, \n",
    "# we can import the \"timeit\" module and use the %timeit magic command \n",
    "# when we run our code or call the function.\n",
    "import timeit\n",
    "\n",
    "%timeit np.random.uniform(-90.000, 90.000, size=1500)"
   ]
  },
  {
   "cell_type": "code",
   "execution_count": 19,
   "id": "d5aa483d",
   "metadata": {},
   "outputs": [
    {
     "name": "stdout",
     "output_type": "stream",
     "text": [
      "4.11 ms ± 679 µs per loop (mean ± std. dev. of 7 runs, 100 loops each)\n"
     ]
    }
   ],
   "source": [
    "def latitudes(size):\n",
    "    latitudes = []\n",
    "    x=0\n",
    "    while x < (size):\n",
    "        random_lat = random.randint(-90, 90) + random.random()\n",
    "        latitudes.append(random_lat)\n",
    "        x += 1\n",
    "    return latitudes\n",
    "\n",
    "# call the function with 1500\n",
    "%timeit latitudes(1500)"
   ]
  },
  {
   "cell_type": "markdown",
   "id": "45a255c2",
   "metadata": {},
   "source": [
    "# 6.4.1 Practice Using Linear Regression"
   ]
  },
  {
   "cell_type": "code",
   "execution_count": 20,
   "id": "a155f9bc",
   "metadata": {},
   "outputs": [],
   "source": [
    "# import linear regression form the SciPy stats module\n",
    "from scipy.stats import linregress"
   ]
  },
  {
   "cell_type": "code",
   "execution_count": 21,
   "id": "3fa4329b",
   "metadata": {},
   "outputs": [],
   "source": [
    "# create equalt numberr of latitudes and temperatures.\n",
    "lats = [42.5, 43.9, 8.1, 36.8, 79.9, 69.1, 25.7, 15.3, 12.7, 64.5]\n",
    "temps = [80.5, 75.3, 90.9, 90.0, 40.4, 62.3, 85.4, 79.6, 72.5, 72.0] "
   ]
  },
  {
   "cell_type": "code",
   "execution_count": 24,
   "id": "e785b137",
   "metadata": {},
   "outputs": [
    {
     "name": "stdout",
     "output_type": "stream",
     "text": [
      "y = -0.45x = 92.94\n",
      "The p-value is: 0.011\n"
     ]
    }
   ],
   "source": [
    "# perform linear regression\n",
    "(slope, intercept, r_value, p_value, std_err) = linregress(lats,temps)\n",
    "\n",
    "# get the equation of the line\n",
    "line_eq = \"y = \" + str(round(slope,2)) + \"x = \" + str(round(intercept,2))\n",
    "print(line_eq)\n",
    "print(f\"The p-value is: {p_value:.3f}\")"
   ]
  },
  {
   "cell_type": "code",
   "execution_count": 26,
   "id": "47629618",
   "metadata": {},
   "outputs": [],
   "source": [
    "# calculate the regression line \"y values\" fromt eh slope and the intercept.\n",
    "regress_values = [(lat * slope + intercept) for lat in lats]"
   ]
  },
  {
   "cell_type": "code",
   "execution_count": 27,
   "id": "79ea3696",
   "metadata": {},
   "outputs": [
    {
     "data": {
      "image/png": "[encoded data removed]",
      "text/plain": [
       "<Figure size 432x288 with 1 Axes>"
      ]
     },
     "metadata": {
      "needs_background": "light"
     },
     "output_type": "display_data"
    }
   ],
   "source": [
    "# import matplotlib\n",
    "import matplotlib.pyplot as plt\n",
    "\n",
    "# create a scatter plot of the x and y values\n",
    "plt.scatter(lats,temps)\n",
    "\n",
    "# plot the regression line with the x-values and the y-coordinates based on the intercept and slope.\n",
    "plt.plot(lats,regress_values,\"r\")\n",
    "\n",
    "# annotate the text for the line equation and add its coordinates\n",
    "plt.annotate(line_eq, (10,40), fontsize=15, color=\"red\")\n",
    "plt.xlabel('Latitude')\n",
    "plt.ylabel('Temp')\n",
    "plt.show()\n"
   ]
  },
  {
   "cell_type": "markdown",
   "id": "d3ac55b3",
   "metadata": {},
   "source": [
    "# 6.4.2 Find the Correlation Between Latitude and Maximum Temperature"
   ]
  }
 ],
 "metadata": {
  "kernelspec": {
   "display_name": "Python 3 (ipykernel)",
   "language": "python",
   "name": "python3"
  },
  "language_info": {
   "codemirror_mode": {
    "name": "ipython",
    "version": 3
   },
   "file_extension": ".py",
   "mimetype": "text/x-python",
   "name": "python",
   "nbconvert_exporter": "python",
   "pygments_lexer": "ipython3",
   "version": "3.7.13"
  }
 },
 "nbformat": 4,
 "nbformat_minor": 5
}
